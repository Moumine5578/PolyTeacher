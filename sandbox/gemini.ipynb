{
 "cells": [
  {
   "cell_type": "markdown",
   "metadata": {},
   "source": []
  },
  {
   "cell_type": "code",
   "execution_count": 1,
   "metadata": {},
   "outputs": [
    {
     "ename": "ModuleNotFoundError",
     "evalue": "No module named 'pandas'",
     "output_type": "error",
     "traceback": [
      "\u001b[1;31m---------------------------------------------------------------------------\u001b[0m",
      "\u001b[1;31mModuleNotFoundError\u001b[0m                       Traceback (most recent call last)",
      "Cell \u001b[1;32mIn[1], line 1\u001b[0m\n\u001b[1;32m----> 1\u001b[0m \u001b[38;5;28;01mimport\u001b[39;00m \u001b[38;5;21;01mpandas\u001b[39;00m \u001b[38;5;28;01mas\u001b[39;00m \u001b[38;5;21;01mpd\u001b[39;00m\n\u001b[0;32m      2\u001b[0m \u001b[38;5;28;01mimport\u001b[39;00m \u001b[38;5;21;01mgoogle\u001b[39;00m\u001b[38;5;21;01m.\u001b[39;00m\u001b[38;5;21;01mgenerativeai\u001b[39;00m \u001b[38;5;28;01mas\u001b[39;00m \u001b[38;5;21;01mgenai\u001b[39;00m\n\u001b[0;32m      3\u001b[0m \u001b[38;5;28;01mimport\u001b[39;00m \u001b[38;5;21;01mos\u001b[39;00m\n",
      "\u001b[1;31mModuleNotFoundError\u001b[0m: No module named 'pandas'"
     ]
    }
   ],
   "source": [
    "import pandas as pd\n",
    "import google.generativeai as genai\n",
    "import os\n",
    "\n",
    "# Configurer l'API Generative AI\n",
    "genai.configure(api_key=os.getenv(\"API_KEY\"))\n",
    "\n",
    "# Données de départ\n",
    "translations = {\n",
    "    \"Français\": [\n",
    "        \"bonjour\",\n",
    "        \"merci\",\n",
    "        \"Comment tu t'appelles ?\",\n",
    "        \"Où sont les toilettes ?\",\n",
    "        \"Que fais-tu dans la vie ?\"\n",
    "    ],\n",
    "    \"Anglais\": [],\n",
    "    \"Espagnol\": [],\n",
    "    \"Italien\": []\n",
    "}\n",
    "\n",
    "# Fonction pour traduire un texte en utilisant Generative AI\n",
    "def traduire(texte, langue_cible):\n",
    "    instruction = f\"Traduis '{texte}' en {langue_cible}, uniquement la traduction comme réponse.\"\n",
    "    modele = genai.GenerativeModel(\"gemini-1.5-flash\")\n",
    "    resultat = modele.generate_content(instruction)\n",
    "    return resultat.text.strip()\n",
    "\n",
    "# Générer les traductions pour chaque langue\n",
    "for langue in [\"Anglais\", \"Espagnol\", \"Italien\"]:\n",
    "    translations[langue] = [traduire(phrase, langue.lower()) for phrase in translations[\"Français\"]]\n",
    "\n",
    "# Convertir les données en DataFrame\n",
    "df_traductions = pd.DataFrame(translations)\n",
    "\n",
    "# Exporter les traductions dans un fichier CSV\n",
    "df_traductions.to_csv(\"all_translation.csv\", index=False, sep=\";\")\n",
    "\n",
    "# Afficher le DataFrame final\n",
    "print(df_traductions)\n"
   ]
  }
 ],
 "metadata": {
  "kernelspec": {
   "display_name": "Python 3",
   "language": "python",
   "name": "python3"
  },
  "language_info": {
   "codemirror_mode": {
    "name": "ipython",
    "version": 3
   },
   "file_extension": ".py",
   "mimetype": "text/x-python",
   "name": "python",
   "nbconvert_exporter": "python",
   "pygments_lexer": "ipython3",
   "version": "3.11.0"
  }
 },
 "nbformat": 4,
 "nbformat_minor": 2
}
